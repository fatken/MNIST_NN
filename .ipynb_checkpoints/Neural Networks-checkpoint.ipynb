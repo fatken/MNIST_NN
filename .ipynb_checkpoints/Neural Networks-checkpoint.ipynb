{
 "cells": [
  {
   "cell_type": "code",
   "execution_count": 1,
   "metadata": {},
   "outputs": [],
   "source": [
    "import scipy.io\n",
    "import numpy as np\n",
    "import matplotlib.pyplot as plt\n",
    "from scipy.optimize import minimize\n",
    "import time\n",
    "import skimage.io\n",
    "from skimage.color import rgb2gray\n",
    "from skimage.transform import resize\n",
    "import os\n",
    "\n",
    "%matplotlib inline"
   ]
  },
  {
   "cell_type": "code",
   "execution_count": 2,
   "metadata": {
    "collapsed": true
   },
   "outputs": [],
   "source": [
    "#supress scientific notation\n",
    "np.set_printoptions(suppress=False)"
   ]
  },
  {
   "cell_type": "markdown",
   "metadata": {},
   "source": [
    "# visualization function\n",
    "m has to be power of some number.\n",
    "For image to be displayed proper, after reshaping, the picture has to be transposed."
   ]
  },
  {
   "cell_type": "code",
   "execution_count": 3,
   "metadata": {
    "collapsed": true
   },
   "outputs": [],
   "source": [
    "def displayData(X, y = 0, exampleWidth = 0):\n",
    "    [m, n]= X.shape\n",
    "    if type(exampleWidth) is int and exampleWidth != 0:\n",
    "        exampleHeight = int(n/exampleWidth);\n",
    "    else:\n",
    "        exampleWidth = exampleHeight = int(np.sqrt(X.shape[1]))\n",
    "    \n",
    "    X = X.reshape(m, exampleWidth, exampleHeight)\n",
    "    plt.figure(figsize=(5, 5))\n",
    "    for i in range(m):\n",
    "        plt.subplot(np.floor(np.sqrt(m)), np.ceil(np.sqrt(m)), i+1)\n",
    "        plt.imshow(X[i], cmap='binary')#or Greys  RdBu coolwarm\n",
    "        if type(y) == int:\n",
    "            ;\n",
    "        elif type(y) == list:\n",
    "            plt.title(y[i])\n",
    "        else:\n",
    "            plt.title(y[i][0])\n",
    "        plt.axis('off')\n",
    "\n",
    "        #plt.xticks(None)"
   ]
  },
  {
   "cell_type": "markdown",
   "metadata": {},
   "source": [
    "# Sigmoid function"
   ]
  },
  {
   "cell_type": "code",
   "execution_count": 4,
   "metadata": {
    "collapsed": true
   },
   "outputs": [],
   "source": [
    "def sigmoid(z):\n",
    "    return(1/(1+np.e**(-z)))"
   ]
  },
  {
   "cell_type": "markdown",
   "metadata": {},
   "source": [
    "# Sigmoid gradient function"
   ]
  },
  {
   "cell_type": "code",
   "execution_count": 5,
   "metadata": {
    "collapsed": true
   },
   "outputs": [],
   "source": [
    "def sigmoidGradient(z):\n",
    "    #defines a function that takes the Z values as input, and \n",
    "    #returns the sigmoid gradients.\n",
    "    gz = sigmoid(z)\n",
    "    sigG = gz * (1 - gz)\n",
    "    return(sigG)"
   ]
  },
  {
   "cell_type": "markdown",
   "metadata": {},
   "source": [
    "## randomly initialize weights\n",
    "One effective strategy for choosing $\\epsilon_{init}$ is to base it on the number of units in the network. A good choice of $\\epsilon_{init}$ is $\\epsilon_{init} = \\frac{\\sqrt6}{\\sqrt{L_{in} + L_{out}}}$, where $L{in} = s_l$ and $L{out} = s_{l+1}$ are the number of units in the layer adjacent to $\\Theta^{(l)}$"
   ]
  },
  {
   "cell_type": "code",
   "execution_count": 6,
   "metadata": {
    "collapsed": true
   },
   "outputs": [],
   "source": [
    "def randInitializeWeights(LIn, LOut):\n",
    "    #epsilon = np.sqrt(6/np.sqrt(LIn + LOut));\n",
    "    epsilon = 0.12\n",
    "    \n",
    "    W = np.random.rand(LOut, LIn + 1) * 2 * epsilon - epsilon\n",
    "    return(W)"
   ]
  },
  {
   "cell_type": "markdown",
   "metadata": {},
   "source": [
    "# nnCostFunction"
   ]
  },
  {
   "cell_type": "code",
   "execution_count": 7,
   "metadata": {
    "collapsed": true
   },
   "outputs": [],
   "source": [
    "def nnCostFunction(nn_params, input_layer_size, hidden_layer_size, no_labels, X, y, lam):\n",
    "    \n",
    "    #t1 = time.time()\n",
    "    \n",
    "    Theta1 = nn_params[:hidden_layer_size*(input_layer_size + 1)].reshape(hidden_layer_size, (input_layer_size + 1))\n",
    "    Theta2 = nn_params[hidden_layer_size * (input_layer_size + 1 ) :].reshape(no_labels, (hidden_layer_size + 1))\n",
    "    \n",
    "    m = X.shape[0]\n",
    "    \n",
    "    #J = 0;\n",
    "    #Theta1_grad = np.zeros_like(Theta1);\n",
    "    #Theta2_grad = np.zeros_like(Theta2);\n",
    "\n",
    "    #convert y to y matrix\n",
    "    ymat = np.zeros((m, no_labels));\n",
    "    for i in range(m):\n",
    "        ymat[i, y[i]] = 1;\n",
    "\n",
    "    #hypothesis\n",
    "    hypo = np.zeros_like(ymat)\n",
    "    \n",
    "    # add ones to the X data matrix so the shape is 5000 * 401\n",
    "    ones = np.ones((m, 1))\n",
    "    X = np.concatenate((ones, X), axis = 1)\n",
    "    n = X.shape[1]\n",
    "    \n",
    "    # cummulative theta derivatives initialization\n",
    "    accuDELTA1 = np.zeros_like(Theta1)\n",
    "    accuDELTA2 = np.zeros_like(Theta2)\n",
    "    \n",
    "    #For loop\n",
    "    for i in range(m):\n",
    "        a1 = X[i]\n",
    "        z2 = np.dot(a1, Theta1.transpose())\n",
    "        a2 = sigmoid(z2)\n",
    "\n",
    "        #add bias\n",
    "        a2 = np.append([1], a2)\n",
    "        z3 = np.dot(a2, Theta2.transpose())\n",
    "        a3 = sigmoid(z3);\n",
    "        hypo[i] = a3\n",
    "        \n",
    "        #backprop\n",
    "        #delta calculation, here the deltas are gradients or \n",
    "        # partial derivatives for activation nodes a\n",
    "        \n",
    "        delta3 = a3 - ymat[i];\n",
    "        delta2 = np.dot(delta3, Theta2) * (a2 * (1 - a2))\n",
    "        delta2 = delta2[1:]\n",
    "        \n",
    "        accuDELTA2 += delta3.reshape(delta3.shape[0], 1) * a2\n",
    "        accuDELTA1 += delta2.reshape(delta2.shape[0], 1) * a1\n",
    "\n",
    "    Theta1_grad = accuDELTA1 / m\n",
    "    Theta2_grad = accuDELTA2 / m\n",
    "    #add regularization term\n",
    "    Theta1_grad[:, 1:] += lam/m * Theta1[:, 1:]\n",
    "    Theta2_grad[:, 1:] += lam/m * Theta2[:, 1:]\n",
    "    \n",
    "    grads = np.append(Theta1_grad.flatten(), Theta2_grad.flatten())\n",
    "    \n",
    "    \n",
    "    Junregularized = 1/m * ((-ymat) * np.log(hypo) - (1 - ymat) * np.log(1- hypo))\n",
    "    Junregularized = np.sum(Junregularized)\n",
    "    \n",
    "    #add regularization term\n",
    "    Jregularization = lam / (2 * m)*(np.sum(Theta1[:, 1:]**2) + np.sum(Theta2[:, 1:]**2))\n",
    "    J = Junregularized + Jregularization;\n",
    "    \n",
    "    \n",
    "    #print(\"\\ncost: \" + str(J))\n",
    "\n",
    "    #t2 = time.time()\n",
    "    #print(\"time:\" + str(t2-t1))\n",
    "\n",
    "    return(J, grads)\n",
    "    #return(J)\n",
    "    "
   ]
  },
  {
   "cell_type": "markdown",
   "metadata": {},
   "source": [
    "# Learning function"
   ]
  },
  {
   "cell_type": "code",
   "execution_count": 8,
   "metadata": {
    "collapsed": true
   },
   "outputs": [],
   "source": [
    "def learn(input_layer_size, hidden_layer_size, no_labels, X, y, initial_nn_params, lam, Method):\n",
    "\n",
    "    global itera\n",
    "    options={'disp': True, 'gtol': 1e-3} #'gtol':1e-6, 'maxIters': 50,     for BFGS\n",
    "    minimizeArgs = (input_layer_size, hidden_layer_size,no_labels, X, y, lam)\n",
    "\n",
    "    t1 = time.time()\n",
    "    res = minimize(nnCostFunction, initial_nn_params, method= Method, jac=True,  options=options, args=minimizeArgs) #  callback=printx,  # CG potentially fastest\n",
    "    t2 = time.time()\n",
    "    print('\\ntotal time: ' + str(t2 - t1))\n",
    "    itera = 1\n",
    "    return(res)"
   ]
  },
  {
   "cell_type": "markdown",
   "metadata": {},
   "source": [
    "# learning status display function"
   ]
  },
  {
   "cell_type": "code",
   "execution_count": 9,
   "metadata": {
    "collapsed": true
   },
   "outputs": [],
   "source": [
    "    def printx(Xi):\n",
    "        global itera\n",
    "        print(itera, end = '\\r',)\n",
    "        itera += 1"
   ]
  },
  {
   "cell_type": "markdown",
   "metadata": {},
   "source": [
    "# Predict function\n",
    "this function predicts accuracy of the model."
   ]
  },
  {
   "cell_type": "code",
   "execution_count": 10,
   "metadata": {
    "collapsed": true
   },
   "outputs": [],
   "source": [
    "def predict(Theta1, Theta2, X):\n",
    "    #m, width, height = X.shape\n",
    "    m, n = X.shape\n",
    "    num_labels = Theta2.shape[0]\n",
    "    \n",
    "    #X = X.reshape(m, width*height)\n",
    "    \n",
    "    ones = np.ones((m, 1))\n",
    "    a1 = np.concatenate((ones, X), axis = 1)\n",
    "\n",
    "    h1 = sigmoid(np.dot(a1,optimizedTheta1.transpose()))\n",
    "    h1 = np.concatenate((ones, h1), axis = 1)\n",
    "    \n",
    "    h2 = sigmoid(np.dot(h1,optimizedTheta2.transpose()))\n",
    "    #argmax(finds the indeces of maximum values along axis 1, along 2nd dimension)\n",
    "    prediction = h2.argmax(axis=1).reshape((m, 1))\n",
    "    return(prediction)"
   ]
  },
  {
   "cell_type": "markdown",
   "metadata": {},
   "source": [
    "# Load"
   ]
  },
  {
   "cell_type": "code",
   "execution_count": 11,
   "metadata": {
    "collapsed": true
   },
   "outputs": [],
   "source": [
    "# for some reason the data read in from the mat is transposed, so after read in, the data needs to be transposed back\n",
    "data = scipy.io.loadmat('ex4data1.mat')\n",
    "X = data[\"X\"]\n",
    "y = data[\"y\"]\n",
    "#change y == 10 to 0\n",
    "#change to 0 based\n",
    "y[y == 10] = 0\n",
    "# transpose each images to the correct orientation\n",
    "[m, n ]= X.shape\n",
    "width = height = np.int(np.sqrt(n))\n",
    "\n",
    "for i in range(m):\n",
    "    X[i] = X[i].reshape(width, height).T.flatten()\n",
    "\n",
    "# NN params\n",
    "input_layer_size = n\n",
    "hidden_layer_size = 25\n",
    "no_labels = 10\n",
    "lam = 1\n",
    "\n",
    "# itera\n",
    "itera = 1"
   ]
  },
  {
   "cell_type": "code",
   "execution_count": 12,
   "metadata": {
    "scrolled": false
   },
   "outputs": [
    {
     "data": {
      "image/png": "[encoded data removed]",
      "text/plain": [
       "<matplotlib.figure.Figure at 0x112dc7a20>"
      ]
     },
     "metadata": {},
     "output_type": "display_data"
    }
   ],
   "source": [
    "sel = np.random.randint(m, size=25)\n",
    "displayData(X[sel, :], y[sel])"
   ]
  },
  {
   "cell_type": "code",
   "execution_count": 13,
   "metadata": {
    "collapsed": true
   },
   "outputs": [],
   "source": [
    "# Theta initialization\n",
    "initial_Theta1 = randInitializeWeights(input_layer_size, hidden_layer_size)\n",
    "initial_Theta2 = randInitializeWeights(hidden_layer_size, no_labels)\n",
    "\n",
    "initial_nn_params = np.append(initial_Theta1.flatten(), initial_Theta2.flatten())"
   ]
  },
  {
   "cell_type": "code",
   "execution_count": 14,
   "metadata": {
    "scrolled": true
   },
   "outputs": [
    {
     "data": {
      "text/plain": [
       "(7.2379960108614227,\n",
       " array([  1.16525767e-02,   6.37627119e-06,   1.83325555e-05, ...,\n",
       "          2.18334528e-01,   2.33745279e-01,   2.14964828e-01]))"
      ]
     },
     "execution_count": 14,
     "metadata": {},
     "output_type": "execute_result"
    }
   ],
   "source": [
    "# test costfunction\n",
    "cost, grad = nnCostFunction(initial_nn_params, input_layer_size, hidden_layer_size,no_labels, X, y, lam)\n",
    "cost, grad"
   ]
  },
  {
   "cell_type": "code",
   "execution_count": 15,
   "metadata": {
    "scrolled": false
   },
   "outputs": [
    {
     "name": "stdout",
     "output_type": "stream",
     "text": [
      "Optimization terminated successfully.\n",
      "         Current function value: 0.341495\n",
      "         Iterations: 125\n",
      "         Function evaluations: 254\n",
      "         Gradient evaluations: 254\n",
      "\n",
      "total time: 100.29599404335022\n"
     ]
    }
   ],
   "source": [
    "res = learn(input_layer_size, hidden_layer_size, no_labels, X, y,initial_nn_params, lam, 'CG')"
   ]
  },
  {
   "cell_type": "code",
   "execution_count": 16,
   "metadata": {
    "scrolled": false
   },
   "outputs": [
    {
     "data": {
      "image/png": "[encoded data removed]",
      "text/plain": [
       "<matplotlib.figure.Figure at 0x113123518>"
      ]
     },
     "metadata": {},
     "output_type": "display_data"
    }
   ],
   "source": [
    "#put optimized thetas back into a matrix form\n",
    "optimizedTheta1 = res.x[:hidden_layer_size*(input_layer_size + 1)].reshape(hidden_layer_size, (input_layer_size + 1))\n",
    "optimizedTheta2 = res.x[hidden_layer_size * (input_layer_size + 1 ) :].reshape(no_labels, (hidden_layer_size + 1))\n",
    "\n",
    "displayData(optimizedTheta1[:, 1:])"
   ]
  },
  {
   "cell_type": "code",
   "execution_count": 17,
   "metadata": {},
   "outputs": [
    {
     "name": "stdout",
     "output_type": "stream",
     "text": [
      "prediction accuracy: 0.991\n"
     ]
    }
   ],
   "source": [
    "prediction = predict(optimizedTheta1, optimizedTheta2, X)\n",
    "print(\"prediction accuracy: \" + str(np.sum(prediction == y)/m))"
   ]
  },
  {
   "cell_type": "markdown",
   "metadata": {},
   "source": [
    "# prediction with my own handwritten digit\n"
   ]
  },
  {
   "cell_type": "markdown",
   "metadata": {},
   "source": [
    "### file io function"
   ]
  },
  {
   "cell_type": "code",
   "execution_count": 18,
   "metadata": {
    "collapsed": true
   },
   "outputs": [],
   "source": [
    "def readImg(fileStr):\n",
    "    #read image and convert as grayscale\n",
    "    fileNames = os.listdir(fileStr)\n",
    "    fileNames.remove('.DS_Store')\n",
    "\n",
    "    width, height = skimage.io.imread(fileStr + '/' + fileNames[0]).shape[0:2]\n",
    "    imageArray = []\n",
    "    for i in range(imageNo):\n",
    "        imageArray.append(skimage.io.imread(fileStr + '/' + fileNames[i], as_grey=True))#as_grey converts to grayscale\n",
    "    return(imageArray)"
   ]
  },
  {
   "cell_type": "code",
   "execution_count": 19,
   "metadata": {},
   "outputs": [
    {
     "data": {
      "image/png": "[encoded data removed]",
      "text/plain": [
       "<matplotlib.figure.Figure at 0x10d6e0048>"
      ]
     },
     "metadata": {},
     "output_type": "display_data"
    }
   ],
   "source": [
    "folder = 'digits'\n",
    "fileNames = os.listdir(folder)\n",
    "fileNames.remove('.DS_Store')\n",
    "\n",
    "for i in range(len(fileNames)):\n",
    "    fileNames[i] = folder + '/' + fileNames[i]\n",
    "imageNo = len(fileNames)\n",
    "fileNames\n",
    "\n",
    "#read image and convert to grayscale by default\n",
    "imgArr = readImg(folder)\n",
    "imgArr = np.array(imgArr)\n",
    "\n",
    "newImgArr = np.zeros((10, 20, 20))\n",
    "\n",
    "#resize image to 20x20\n",
    "for i in range(len(imgArr)):\n",
    "    newImgArr[i] = resize(imgArr[i], (20, 20), mode='symmetric') #{‘constant’, ‘edge’, ‘symmetric’, ‘reflect’, ‘wrap’}\n",
    "    newImgArr[i] = 1 - newImgArr[i]\n",
    "    #newImgArr[i] = imgArr[i]\n",
    "#del imgArr\n",
    "imgArr = newImgArr;\n",
    "del newImgArr\n",
    "\n",
    "#flatten out images to be 2-D\n",
    "mTest, mHeight, mWidth = imgArr.shape\n",
    "imgArr = imgArr.reshape((mTest, mHeight*mWidth))\n",
    "#m = imgArr.shape[0]\n",
    "\n",
    "#imgArr[i] = imgArr[i].flatten()\n",
    "#imgArr = imgArr.reshape((testm, height, width))    \n",
    "    #convert imgArr to a np array\n",
    "yTest = np.array([[5], [4], [6], [1], [7], [0], [8], [9], [3], [2]])\n",
    "\n",
    "resultY = predict(optimizedTheta1, optimizedTheta2, imgArr)\n",
    "displayData(imgArr, yTest, resultY)"
   ]
  },
  {
   "cell_type": "markdown",
   "metadata": {},
   "source": [
    "# Test case\n",
    "## 1. Zero theta initialization\n",
    "This test demonstrates if all the parameters are initialized to same value of 0, they will all minimize to form the same filter."
   ]
  },
  {
   "cell_type": "code",
   "execution_count": 20,
   "metadata": {},
   "outputs": [
    {
     "name": "stdout",
     "output_type": "stream",
     "text": [
      "Optimization terminated successfully.\n",
      "         Current function value: 3.251542\n",
      "         Iterations: 5\n",
      "         Function evaluations: 12\n",
      "         Gradient evaluations: 12\n",
      "\n",
      "total time: 8.601308822631836\n"
     ]
    }
   ],
   "source": [
    "#zero initialization example\n",
    "initial_Theta1_zero = np.zeros((hidden_layer_size, input_layer_size+1))\n",
    "initial_Theta2_zero = np.zeros((no_labels, hidden_layer_size +1))\n",
    "\n",
    "initial_zero_nn_params = np.append(initial_Theta1_zero.flatten(), initial_Theta2_zero.flatten())\n",
    "\n",
    "zeroRes = learn(input_layer_size, hidden_layer_size, no_labels, X, y,initial_zero_nn_params, lam, 'CG')"
   ]
  },
  {
   "cell_type": "code",
   "execution_count": 21,
   "metadata": {
    "scrolled": false
   },
   "outputs": [
    {
     "data": {
      "image/png": "[encoded data removed]",
      "text/plain": [
       "<matplotlib.figure.Figure at 0x11594c6a0>"
      ]
     },
     "metadata": {},
     "output_type": "display_data"
    }
   ],
   "source": [
    "#put optimized thetas back into a matrix form\n",
    "optimizedTheta1zero = zeroRes.x[:hidden_layer_size*(input_layer_size + 1)].reshape(hidden_layer_size, (input_layer_size + 1))\n",
    "optimizedTheta2zero = zeroRes.x[hidden_layer_size * (input_layer_size + 1 ) :].reshape(no_labels, (hidden_layer_size + 1))\n",
    "\n",
    "displayData(optimizedTheta1zero[:, 1:])\n",
    "#displayData(optimizedTheta2zero[:, 1:])"
   ]
  },
  {
   "cell_type": "markdown",
   "metadata": {},
   "source": [
    "## 2. 1 theta initialization"
   ]
  },
  {
   "cell_type": "code",
   "execution_count": 22,
   "metadata": {},
   "outputs": [
    {
     "name": "stdout",
     "output_type": "stream",
     "text": [
      "Optimization terminated successfully.\n",
      "         Current function value: 4.113553\n",
      "         Iterations: 3\n",
      "         Function evaluations: 20\n",
      "         Gradient evaluations: 18\n",
      "\n",
      "total time: 10.227317810058594\n"
     ]
    }
   ],
   "source": [
    "#One initialization example\n",
    "initial_Theta1_one = np.ones((hidden_layer_size, input_layer_size+1))\n",
    "initial_Theta2_one = np.ones((no_labels, hidden_layer_size +1))\n",
    "\n",
    "initial_ones_nn_params = np.append(initial_Theta1_one.flatten(), initial_Theta2_one.flatten())\n",
    "\n",
    "oneRes = learn(input_layer_size, hidden_layer_size, no_labels, X, y,initial_ones_nn_params, lam, 'CG')"
   ]
  },
  {
   "cell_type": "code",
   "execution_count": 23,
   "metadata": {
    "scrolled": false
   },
   "outputs": [
    {
     "data": {
      "image/png": "[encoded data removed]",
      "text/plain": [
       "<matplotlib.figure.Figure at 0x11594c358>"
      ]
     },
     "metadata": {},
     "output_type": "display_data"
    }
   ],
   "source": [
    "#put optimized thetas back into a matrix form\n",
    "optimizedTheta1one = oneRes.x[:hidden_layer_size*(input_layer_size + 1)].reshape(hidden_layer_size, (input_layer_size + 1))\n",
    "optimizedTheta2one = oneRes.x[hidden_layer_size * (input_layer_size + 1 ) :].reshape(no_labels, (hidden_layer_size + 1))\n",
    "\n",
    "displayData(optimizedTheta1one[:, 1:])\n",
    "#displayData(optimizedTheta2one[:, 1:])"
   ]
  },
  {
   "cell_type": "markdown",
   "metadata": {},
   "source": [
    "## 3. combined 1/0 initialization"
   ]
  },
  {
   "cell_type": "code",
   "execution_count": 24,
   "metadata": {},
   "outputs": [
    {
     "name": "stdout",
     "output_type": "stream",
     "text": [
      "Optimization terminated successfully.\n",
      "         Current function value: 3.283657\n",
      "         Iterations: 5\n",
      "         Function evaluations: 11\n",
      "         Gradient evaluations: 11\n",
      "\n",
      "total time: 5.453115940093994\n"
     ]
    }
   ],
   "source": [
    "# theta1 = 0, theta2 = 1\n",
    "\n",
    "initial_10_nn_params = np.append(initial_Theta1_zero.flatten(), initial_Theta2_one.flatten())\n",
    "\n",
    "Res10 = learn(input_layer_size, hidden_layer_size, no_labels, X, y,initial_10_nn_params, lam, 'CG')"
   ]
  },
  {
   "cell_type": "code",
   "execution_count": 25,
   "metadata": {
    "scrolled": false
   },
   "outputs": [
    {
     "data": {
      "image/png": "[encoded data removed]",
      "text/plain": [
       "<matplotlib.figure.Figure at 0x113090160>"
      ]
     },
     "metadata": {},
     "output_type": "display_data"
    }
   ],
   "source": [
    "#put optimized thetas back into a matrix form\n",
    "optimizedTheta1 = Res10.x[:hidden_layer_size*(input_layer_size + 1)].reshape(hidden_layer_size, (input_layer_size + 1))\n",
    "optimizedTheta2 = Res10.x[hidden_layer_size * (input_layer_size + 1 ) :].reshape(no_labels, (hidden_layer_size + 1))\n",
    "\n",
    "displayData(optimizedTheta1[:, 1:])"
   ]
  },
  {
   "cell_type": "markdown",
   "metadata": {},
   "source": [
    "# check gradients and prove back prop is implemented proper\n",
    "## 1. checkNNgradients\n",
    "## 2. debugInitialWeights\n",
    "## 3.Cumpute numerical gradient\n",
    "compute gradients using finite differences and returns a numerical estimate."
   ]
  },
  {
   "cell_type": "code",
   "execution_count": 26,
   "metadata": {
    "collapsed": true
   },
   "outputs": [],
   "source": [
    "#checkNNGradients\n",
    "def checkNNGradients(lam = 0):\n",
    "    input_layer_size = 3;\n",
    "    hidden_layer_size = 5;\n",
    "    num_labels = 3;\n",
    "    m = 5;\n",
    "    \n",
    "    #random test data generation\n",
    "    Theta1 = debugInitialWeights(hidden_layer_size, input_layer_size)\n",
    "    Theta2 = debugInitialWeights(num_labels, hidden_layer_size)\n",
    "    \n",
    "    X = debugInitialWeights(m, input_layer_size-1)\n",
    "    y = np.mod(np.arange(1, 6), num_labels) \n",
    "    \n",
    "    nn_params = np.append(Theta1.flatten(), Theta2.flatten())\n",
    "    \n",
    "    cost, grad = nnCostFunction(nn_params, input_layer_size, hidden_layer_size,num_labels, X, y, lam)\n",
    "    \n",
    "    #args = (nn_params,input_layer_size, hidden_layer_size,no_labels, X, y, lam)\n",
    "    \n",
    "    numgrad = computeNumericalGradient(nnCostFunction, nn_params,input_layer_size, hidden_layer_size,num_labels, X, y, lam)\n",
    "    for i in range(len(grad)):\n",
    "        print( grad[i], numgrad[i])\n",
    "    diff = np.linalg.norm(numgrad - grad)/np.linalg.norm(numgrad + grad)\n",
    "    print(\"If back prop is properly implemented, difference should be small, less than 1e-9.\")\n",
    "    \n",
    "    print(\"relative difference: \\n\" + str(diff))\n",
    "\n",
    "#debugInitialWeights\n",
    "def debugInitialWeights(fan_out, fan_in):\n",
    "    w = np.zeros((fan_out, 1 + fan_in))\n",
    "    w = np.sin(np.arange(1,np.size(w)+1)).reshape(fan_out, 1 + fan_in)\n",
    "    return(w)\n",
    "\n",
    "#computeNumericalGradient\n",
    "def computeNumericalGradient(costFun, theta,input_layer_size, hidden_layer_size,no_labels, X, y, lam):\n",
    "    numgrad = np.zeros_like(theta);\n",
    "    perturb = np.zeros_like(theta);\n",
    "    e = 10**-4\n",
    "    for p in range(theta.size):\n",
    "        perturb[p] = e\n",
    "        loss1 = costFun(theta - perturb, input_layer_size, hidden_layer_size,no_labels, X, y, lam)[0];\n",
    "        loss2 = costFun(theta + perturb, input_layer_size, hidden_layer_size,no_labels, X, y, lam)[0];\n",
    "        \n",
    "        numgrad[p] = (loss2 - loss1)/(2*e)\n",
    "        perturb[p] = 0\n",
    "    return(numgrad)"
   ]
  },
  {
   "cell_type": "code",
   "execution_count": 27,
   "metadata": {
    "collapsed": true
   },
   "outputs": [
    {
     "name": "stdout",
     "output_type": "stream",
     "text": [
      "0.152395925485 0.152395925381\n",
      "0.00867455483106 0.0086745548411\n",
      "0.0167388729772 0.016738873001\n",
      "0.00941354850338 0.00941354850292\n",
      "0.0572621360189 0.057262135984\n",
      "0.0301513760063 0.0301513759915\n",
      "0.0401924661746 0.0401924661331\n",
      "0.013280788299 0.0132807882935\n",
      "-0.0742315718998 -0.0742315718938\n",
      "-0.0160152856103 -0.0160152855955\n",
      "-0.027816259377 -0.0278162593426\n",
      "-0.0140430925538 -0.014043092551\n",
      "-0.136235888501 -0.136235888484\n",
      "-0.00304407820088 -0.00304407823171\n",
      "-0.00685651520662 -0.00685651529553\n",
      "-0.00436510375183 -0.00436510376067\n",
      "-0.0726020435824 -0.0726020435415\n",
      "-0.0216340281404 -0.0216340281378\n",
      "-0.0294166882597 -0.0294166882453\n",
      "-0.010153780855 -0.0101537808517\n",
      "0.416549362562 0.416549362467\n",
      "0.280953791292 0.280953791256\n",
      "0.117434013596 0.117434013589\n",
      "0.252954161989 0.25295416197\n",
      "0.22418550443 0.224185504394\n",
      "0.116730344884 0.116730344881\n",
      "0.210129829549 0.210129829463\n",
      "0.135147414117 0.135147414084\n",
      "0.108455538277 0.10845553827\n",
      "0.0709028000321 0.0709028000134\n",
      "0.143024079327 0.143024079295\n",
      "0.0829384045449 0.082938404542\n",
      "0.195064368703 0.195064368629\n",
      "0.168360863558 0.168360863531\n",
      "0.0605892845858 0.0605892845806\n",
      "0.0717923004295 0.0717923004112\n",
      "0.157848726433 0.157848726403\n",
      "0.0308215356424 0.0308215356415\n",
      "If back prop is properly implemented, difference should be small, less than 1e-9.\n",
      "relative difference: \n",
      "1.46060952051e-10\n"
     ]
    }
   ],
   "source": [
    "checkNNGradients()"
   ]
  },
  {
   "cell_type": "markdown",
   "metadata": {},
   "source": [
    "# python function as a function argument"
   ]
  },
  {
   "cell_type": "markdown",
   "metadata": {},
   "source": [
    "```\n",
    "def perform( fun, *args ):\n",
    "    fun( *args )\n",
    "\n",
    "def action1( args ):\n",
    "    something\n",
    "\n",
    "def action2( args ):\n",
    "    something\n",
    "    \n",
    "perform( action1 )\n",
    "perform( action2, p )\n",
    "perform( action3, p, r )\n",
    "```"
   ]
  },
  {
   "cell_type": "code",
   "execution_count": 28,
   "metadata": {
    "collapsed": true
   },
   "outputs": [
    {
     "name": "stdout",
     "output_type": "stream",
     "text": [
      "6\n"
     ]
    }
   ],
   "source": [
    "def multiply(a, b):\n",
    "    return(a*b)\n",
    "\n",
    "def printFun(fun, *args):\n",
    "    print(fun(*args))\n",
    "    \n",
    "a = 2\n",
    "b = 3\n",
    "args = (a, b)\n",
    "\n",
    "\n",
    "printFun(multiply, a,b)"
   ]
  }
 ],
 "metadata": {
  "kernelspec": {
   "display_name": "Python 3",
   "language": "python",
   "name": "python3"
  },
  "language_info": {
   "codemirror_mode": {
    "name": "ipython",
    "version": 3
   },
   "file_extension": ".py",
   "mimetype": "text/x-python",
   "name": "python",
   "nbconvert_exporter": "python",
   "pygments_lexer": "ipython3",
   "version": "3.6.4"
  }
 },
 "nbformat": 4,
 "nbformat_minor": 2
}
